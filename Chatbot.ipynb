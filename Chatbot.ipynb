{
 "cells": [
  {
   "cell_type": "code",
   "execution_count": 1,
   "id": "716e2daf",
   "metadata": {},
   "outputs": [
    {
     "name": "stdout",
     "output_type": "stream",
     "text": [
      "To start conversation with chatbot enter 'Hello' \n",
      "To exit, enter 'Bye' \n",
      "You: hello\n",
      "Chatbot:  How can I help you? Please select option 1- Chicken Burger with Fries\n",
      ", 2- Salad with Greek dressing \n",
      " or 3- Get me some water, please \n",
      "To start conversation with chatbot enter 'Hello' \n",
      "To exit, enter 'Bye' \n",
      "You: 2\n",
      "Chatbot:  Enjoy your salad! 🥗 Don't forget the dressing\n",
      "To start conversation with chatbot enter 'Hello' \n",
      "To exit, enter 'Bye' \n",
      "You: bye\n",
      "Chatbot: Goodbye!\n"
     ]
    }
   ],
   "source": [
    "def chatbot_working(user_input):\n",
    "    user_input = user_input.lower()\n",
    "    if \"hello\" in user_input: \n",
    "        return \" How can I help you? Please select option 1- Chicken Burger with Fries\\n, 2- Salad with Greek dressing \\n or 3- Get me some water, please \"\n",
    "    if user_input == \"1\":\n",
    "        return \"Take your Chicken Burger, the Cow is happy 🐓🍔\"\n",
    "    if user_input == \"2\": \n",
    "        return \" Enjoy your salad! 🥗 Don't forget the dressing\"\n",
    "    if user_input == \"3\": \n",
    "        return \" Here's your water 🚰 Stay hydrated!\"\n",
    "while True: \n",
    "    print(\"To start conversation with chatbot enter 'Hello' \")\n",
    "    print(\"To exit, enter 'Bye' \")\n",
    "    \n",
    "    user_input = input(\"You: \")\n",
    "    if user_input.lower()==  'bye': \n",
    "        print(\"Chatbot: Goodbye!\")\n",
    "        break\n",
    "    response = chatbot_working(user_input)\n",
    "    print(f\"Chatbot: {response}\")\n",
    "    "
   ]
  },
  {
   "cell_type": "code",
   "execution_count": null,
   "id": "e1d4cbaa",
   "metadata": {},
   "outputs": [],
   "source": []
  },
  {
   "cell_type": "code",
   "execution_count": null,
   "id": "ed976f55",
   "metadata": {},
   "outputs": [],
   "source": []
  }
 ],
 "metadata": {
  "kernelspec": {
   "display_name": "Python 3 (ipykernel)",
   "language": "python",
   "name": "python3"
  },
  "language_info": {
   "codemirror_mode": {
    "name": "ipython",
    "version": 3
   },
   "file_extension": ".py",
   "mimetype": "text/x-python",
   "name": "python",
   "nbconvert_exporter": "python",
   "pygments_lexer": "ipython3",
   "version": "3.9.13"
  }
 },
 "nbformat": 4,
 "nbformat_minor": 5
}
